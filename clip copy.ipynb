{
 "cells": [
  {
   "cell_type": "code",
   "execution_count": 1,
   "id": "f8d07f77",
   "metadata": {},
   "outputs": [
    {
     "name": "stdout",
     "output_type": "stream",
     "text": [
      "c:\\Users\\moham\\AA\\python.exe\n"
     ]
    }
   ],
   "source": [
    "import sys\n",
    "print(sys.executable)\n"
   ]
  },
  {
   "cell_type": "code",
   "execution_count": 3,
   "id": "b0107c4c",
   "metadata": {},
   "outputs": [],
   "source": [
    "import os\n",
    "os.environ[\"PYTORCH_CUDA_ALLOC_CONF\"] = \"expandable_segments:True\"\n"
   ]
  },
  {
   "cell_type": "code",
   "execution_count": 1,
   "id": "795af845",
   "metadata": {},
   "outputs": [],
   "source": [
    "import os\n",
    "import torch\n",
    "import pandas as pd\n",
    "import numpy as np\n",
    "from tqdm import tqdm\n",
    "from PIL import Image\n",
    "from transformers import CLIPProcessor, CLIPModel, BertTokenizer, BertModel\n",
    "from sklearn.model_selection import train_test_split\n",
    "from sklearn.metrics import classification_report, confusion_matrix\n",
    "from sklearn.preprocessing import StandardScaler\n",
    "from torch import nn\n",
    "from torch.utils.data import DataLoader, TensorDataset\n",
    "import gc\n",
    "\n"
   ]
  },
  {
   "cell_type": "code",
   "execution_count": 2,
   "id": "d2deabb6",
   "metadata": {},
   "outputs": [
    {
     "name": "stderr",
     "output_type": "stream",
     "text": [
      "Using a slow image processor as `use_fast` is unset and a slow processor was saved with this model. `use_fast=True` will be the default behavior in v4.52, even if the model was saved with a slow processor. This will result in minor differences in outputs. You'll still be able to use a slow processor with `use_fast=False`.\n"
     ]
    },
    {
     "data": {
      "text/plain": [
       "BertModel(\n",
       "  (embeddings): BertEmbeddings(\n",
       "    (word_embeddings): Embedding(30522, 768, padding_idx=0)\n",
       "    (position_embeddings): Embedding(512, 768)\n",
       "    (token_type_embeddings): Embedding(2, 768)\n",
       "    (LayerNorm): LayerNorm((768,), eps=1e-12, elementwise_affine=True)\n",
       "    (dropout): Dropout(p=0.1, inplace=False)\n",
       "  )\n",
       "  (encoder): BertEncoder(\n",
       "    (layer): ModuleList(\n",
       "      (0-11): 12 x BertLayer(\n",
       "        (attention): BertAttention(\n",
       "          (self): BertSdpaSelfAttention(\n",
       "            (query): Linear(in_features=768, out_features=768, bias=True)\n",
       "            (key): Linear(in_features=768, out_features=768, bias=True)\n",
       "            (value): Linear(in_features=768, out_features=768, bias=True)\n",
       "            (dropout): Dropout(p=0.1, inplace=False)\n",
       "          )\n",
       "          (output): BertSelfOutput(\n",
       "            (dense): Linear(in_features=768, out_features=768, bias=True)\n",
       "            (LayerNorm): LayerNorm((768,), eps=1e-12, elementwise_affine=True)\n",
       "            (dropout): Dropout(p=0.1, inplace=False)\n",
       "          )\n",
       "        )\n",
       "        (intermediate): BertIntermediate(\n",
       "          (dense): Linear(in_features=768, out_features=3072, bias=True)\n",
       "          (intermediate_act_fn): GELUActivation()\n",
       "        )\n",
       "        (output): BertOutput(\n",
       "          (dense): Linear(in_features=3072, out_features=768, bias=True)\n",
       "          (LayerNorm): LayerNorm((768,), eps=1e-12, elementwise_affine=True)\n",
       "          (dropout): Dropout(p=0.1, inplace=False)\n",
       "        )\n",
       "      )\n",
       "    )\n",
       "  )\n",
       "  (pooler): BertPooler(\n",
       "    (dense): Linear(in_features=768, out_features=768, bias=True)\n",
       "    (activation): Tanh()\n",
       "  )\n",
       ")"
      ]
     },
     "execution_count": 2,
     "metadata": {},
     "output_type": "execute_result"
    }
   ],
   "source": [
    "device = \"cuda\" if torch.cuda.is_available() else \"cpu\"\n",
    "\n",
    "clip_model = CLIPModel.from_pretrained(\"openai/clip-vit-base-patch32\").to(\"cpu\")\n",
    "clip_processor = CLIPProcessor.from_pretrained(\"openai/clip-vit-base-patch32\")\n",
    "\n",
    "bert_model = BertModel.from_pretrained(\"bert-base-uncased\").to(\"cpu\")\n",
    "bert_tokenizer = BertTokenizer.from_pretrained(\"bert-base-uncased\")\n",
    "\n",
    "\n",
    "\n",
    "for param in bert_model.parameters():\n",
    "    param.requires_grad = True\n",
    "\n",
    "bert_model.train()"
   ]
  },
  {
   "cell_type": "code",
   "execution_count": 3,
   "id": "c706d64d",
   "metadata": {},
   "outputs": [],
   "source": [
    "df = pd.read_csv(\"Multimodal_FakeNews_Sample_1999_Clean.csv\")  \n",
    "\n",
    "\n",
    "df['label'] = df['label'].map({'fake': 0, 'real': 1})  \n",
    "df.dropna(subset=[\"text\", \"image_filename\"], inplace=True)\n"
   ]
  },
  {
   "cell_type": "code",
   "execution_count": 12,
   "id": "71f5ff66",
   "metadata": {},
   "outputs": [],
   "source": [
    "def get_multimodal_features(row):\n",
    "    try:\n",
    "        image_path = f\"fake_news_images_1999/{row['image_filename']}\"\n",
    "        image = Image.open(image_path).convert(\"RGB\")\n",
    "    except Exception as e:\n",
    "        print(f\"[ERROR] Cannot open image for {row['image_filename']}: {e}\")\n",
    "        return None\n",
    "\n",
    "    text = row['text'][:512]\n",
    "\n",
    "    try:\n",
    "        clip_inputs = clip_processor(images=image, return_tensors=\"pt\")\n",
    "        image_features = clip_model.get_image_features(**clip_inputs)\n",
    "\n",
    "        encoded = bert_tokenizer(text, return_tensors=\"pt\", truncation=True, padding=True)\n",
    "        bert_outputs = bert_model(**encoded)\n",
    "        text_features = bert_outputs.pooler_output\n",
    "        text_features*=2\n",
    "\n",
    "        return torch.cat((text_features, image_features), dim=1).squeeze(0)\n",
    "    except Exception as e:\n",
    "        print(f\"[ERROR] Feature extraction failed for {row['image_filename']}: {e}\")\n",
    "        return None\n"
   ]
  },
  {
   "cell_type": "code",
   "execution_count": 13,
   "id": "c9294a48",
   "metadata": {},
   "outputs": [
    {
     "name": "stderr",
     "output_type": "stream",
     "text": [
      "100%|██████████| 1999/1999 [09:35<00:00,  3.47it/s]\n"
     ]
    }
   ],
   "source": [
    "import os\n",
    "import torch\n",
    "from tqdm import tqdm\n",
    "\n",
    "os.makedirs(\"features\", exist_ok=True)\n",
    "features_dir = \"features\"\n",
    "labels = []\n",
    "\n",
    "for _, row in tqdm(df.iterrows(), total=len(df)):\n",
    "    feat = get_multimodal_features(row)\n",
    "    if feat is not None:\n",
    "        feature_path = os.path.join(features_dir, row['image_filename'].replace('.jpg', '.pt'))\n",
    "        torch.save(feat, feature_path)\n",
    "\n",
    "        labels.append(row['label'])\n"
   ]
  },
  {
   "cell_type": "code",
   "execution_count": 14,
   "id": "1c038acb",
   "metadata": {},
   "outputs": [],
   "source": [
    "import glob\n",
    "\n",
    "feature_paths = sorted(glob.glob(\"features/*.pt\"))\n",
    "X = torch.stack([torch.load(p) for p in feature_paths])\n",
    "y = torch.tensor(labels, dtype=torch.long)\n"
   ]
  },
  {
   "cell_type": "code",
   "execution_count": null,
   "id": "a9b6b8f1",
   "metadata": {},
   "outputs": [
    {
     "name": "stderr",
     "output_type": "stream",
     "text": [
      "C:\\Users\\moham\\AppData\\Local\\Temp\\ipykernel_14556\\255722723.py:11: UserWarning: To copy construct from a tensor, it is recommended to use sourceTensor.detach().clone() or sourceTensor.detach().clone().requires_grad_(True), rather than torch.tensor(sourceTensor).\n",
      "  torch_y_train = torch.tensor(y_train, dtype=torch.long)\n",
      "C:\\Users\\moham\\AppData\\Local\\Temp\\ipykernel_14556\\255722723.py:13: UserWarning: To copy construct from a tensor, it is recommended to use sourceTensor.detach().clone() or sourceTensor.detach().clone().requires_grad_(True), rather than torch.tensor(sourceTensor).\n",
      "  torch_y_val = torch.tensor(y_val, dtype=torch.long)\n",
      "C:\\Users\\moham\\AppData\\Local\\Temp\\ipykernel_14556\\255722723.py:15: UserWarning: To copy construct from a tensor, it is recommended to use sourceTensor.detach().clone() or sourceTensor.detach().clone().requires_grad_(True), rather than torch.tensor(sourceTensor).\n",
      "  torch_y_test = torch.tensor(y_test, dtype=torch.long)\n"
     ]
    },
    {
     "name": "stdout",
     "output_type": "stream",
     "text": [
      "Epoch 1, Loss: 0.7262, Train Acc: 0.5371, Val Acc: 0.4906\n",
      "Epoch 2, Loss: 0.7052, Train Acc: 0.5379, Val Acc: 0.5281\n",
      "Epoch 3, Loss: 0.6762, Train Acc: 0.5911, Val Acc: 0.5125\n",
      "Epoch 4, Loss: 0.6632, Train Acc: 0.6075, Val Acc: 0.4875\n",
      "Epoch 5, Loss: 0.6296, Train Acc: 0.6333, Val Acc: 0.4781\n",
      "Early stopping triggered.\n"
     ]
    }
   ],
   "source": [
    "if isinstance(X, torch.Tensor):\n",
    "    X = X.detach().cpu().numpy()\n",
    "\n",
    "scaler = StandardScaler()\n",
    "X = scaler.fit_transform(X)\n",
    "\n",
    "X_train, X_test, y_train, y_test = train_test_split(X, y, test_size=0.2, random_state=42)\n",
    "X_train, X_val, y_train, y_val = train_test_split(X_train, y_train, test_size=0.2, random_state=42)\n",
    "\n",
    "torch_X_train = torch.tensor(X_train, dtype=torch.float32)\n",
    "torch_y_train = torch.tensor(y_train, dtype=torch.long)\n",
    "torch_X_val = torch.tensor(X_val, dtype=torch.float32)\n",
    "torch_y_val = torch.tensor(y_val, dtype=torch.long)\n",
    "torch_X_test = torch.tensor(X_test, dtype=torch.float32)\n",
    "torch_y_test = torch.tensor(y_test, dtype=torch.long)\n",
    "\n",
    "train_dataset = TensorDataset(torch_X_train, torch_y_train)\n",
    "val_dataset = TensorDataset(torch_X_val, torch_y_val)\n",
    "test_dataset = TensorDataset(torch_X_test, torch_y_test)\n",
    "\n",
    "train_loader = DataLoader(train_dataset, batch_size=32, shuffle=True)\n",
    "val_loader = DataLoader(val_dataset, batch_size=32)\n",
    "test_loader = DataLoader(test_dataset, batch_size=32)\n",
    "\n",
    "class FakeNewsNN(nn.Module):\n",
    "    def __init__(self, input_size):\n",
    "        super(FakeNewsNN, self).__init__()\n",
    "        self.classifier = nn.Sequential(\n",
    "            nn.Linear(input_size, 512),\n",
    "            nn.BatchNorm1d(512),\n",
    "            nn.ReLU(),\n",
    "            nn.Dropout(0.5),\n",
    "            nn.Linear(512, 256),\n",
    "            nn.BatchNorm1d(256),\n",
    "            nn.ReLU(),\n",
    "            nn.Dropout(0.4),\n",
    "            nn.Linear(256, 64),\n",
    "            nn.BatchNorm1d(64),\n",
    "            nn.ReLU(),\n",
    "            nn.Dropout(0.3),\n",
    "            nn.Linear(64, 2)\n",
    "        )\n",
    "\n",
    "    def forward(self, x):\n",
    "        return self.classifier(x)\n",
    "\n",
    "device = torch.device('cuda' if torch.cuda.is_available() else 'cpu')\n",
    "model = FakeNewsNN(X.shape[1]).to(device)\n",
    "\n",
    "# Apply class weights to handle imbalance\n",
    "from sklearn.utils.class_weight import compute_class_weight\n",
    "weights = compute_class_weight(\"balanced\", classes=np.unique(y_train.numpy()), y=y_train.numpy())\n",
    "weights_tensor = torch.tensor(weights, dtype=torch.float32).to(device)\n",
    "criterion = nn.CrossEntropyLoss(weight=weights_tensor)\n",
    "\n",
    "optimizer = torch.optim.Adam(model.parameters(), lr=1e-3, weight_decay=1e-5)  # L2 regularization\n",
    "scheduler = torch.optim.lr_scheduler.ReduceLROnPlateau(optimizer, mode='max', factor=0.5, patience=2)\n",
    "\n",
    "train_losses = []\n",
    "val_losses = []\n",
    "train_accuracies = []\n",
    "val_accuracies = []\n",
    "best_val_acc = 0\n",
    "patience = 3\n",
    "patience_counter = 0\n",
    "\n",
    "for epoch in range(30):\n",
    "    model.train()\n",
    "    total_loss = 0\n",
    "    train_preds, train_trues = [], []\n",
    "\n",
    "    for batch_x, batch_y in train_loader:\n",
    "        batch_x, batch_y = batch_x.to(device), batch_y.to(device)\n",
    "        optimizer.zero_grad()\n",
    "        outputs = model(batch_x)\n",
    "        loss = criterion(outputs, batch_y)\n",
    "        loss.backward()\n",
    "        optimizer.step()\n",
    "        total_loss += loss.item()\n",
    "\n",
    "        preds = torch.argmax(outputs, dim=1).cpu().numpy()\n",
    "        train_preds.extend(preds)\n",
    "        train_trues.extend(batch_y.detach().cpu().numpy())\n",
    "\n",
    "    train_acc = np.mean(np.array(train_preds) == np.array(train_trues))\n",
    "    train_losses.append(total_loss / len(train_loader))\n",
    "    train_accuracies.append(train_acc)\n",
    "\n",
    "    model.eval()\n",
    "    val_loss = 0\n",
    "    val_preds, val_trues = [], []\n",
    "    with torch.no_grad():\n",
    "        for batch_x, batch_y in val_loader:\n",
    "            batch_x, batch_y = batch_x.to(device), batch_y.to(device)\n",
    "            outputs = model(batch_x)\n",
    "            loss = criterion(outputs, batch_y)\n",
    "            val_loss += loss.item()\n",
    "            preds = torch.argmax(outputs, dim=1).cpu().numpy()\n",
    "            val_preds.extend(preds)\n",
    "            val_trues.extend(batch_y.cpu().numpy())\n",
    "\n",
    "    val_acc = np.mean(np.array(val_preds) == np.array(val_trues))\n",
    "    val_losses.append(val_loss / len(val_loader))\n",
    "    val_accuracies.append(val_acc)\n",
    "    scheduler.step(val_acc)\n",
    "\n",
    "    print(f\"Epoch {epoch+1}, Loss: {total_loss / len(train_loader):.4f}, Train Acc: {train_acc:.4f}, Val Acc: {val_acc:.4f}\")\n",
    "\n",
    "    if val_acc > best_val_acc:\n",
    "        best_val_acc = val_acc\n",
    "        patience_counter = 0\n",
    "        torch.save(model.state_dict(), \"best_model.pt\")\n",
    "    else:\n",
    "        patience_counter += 1\n",
    "        if patience_counter >= patience:\n",
    "            print(\"Early stopping triggered.\")\n",
    "            break\n"
   ]
  },
  {
   "cell_type": "code",
   "execution_count": 18,
   "id": "5b77bf54",
   "metadata": {},
   "outputs": [
    {
     "name": "stdout",
     "output_type": "stream",
     "text": [
      "\n",
      "Classification Report:\n",
      "              precision    recall  f1-score   support\n",
      "\n",
      "           0       0.52      0.69      0.59       207\n",
      "           1       0.48      0.31      0.38       193\n",
      "\n",
      "    accuracy                           0.51       400\n",
      "   macro avg       0.50      0.50      0.49       400\n",
      "weighted avg       0.50      0.51      0.49       400\n",
      "\n"
     ]
    }
   ],
   "source": [
    "model.eval()\n",
    "y_preds, y_trues = [], []\n",
    "with torch.no_grad():\n",
    "    for batch_x, batch_y in test_loader:\n",
    "        batch_x = batch_x.to(device)\n",
    "        outputs = model(batch_x)\n",
    "        preds = torch.argmax(outputs, dim=1).cpu().numpy()\n",
    "        y_preds.extend(preds)\n",
    "        y_trues.extend(batch_y.numpy())\n",
    "\n",
    "print(\"\\nClassification Report:\")\n",
    "print(classification_report(y_trues, y_preds))\n"
   ]
  },
  {
   "cell_type": "code",
   "execution_count": null,
   "id": "ca595be3",
   "metadata": {},
   "outputs": [],
   "source": []
  }
 ],
 "metadata": {
  "kernelspec": {
   "display_name": "base",
   "language": "python",
   "name": "python3"
  },
  "language_info": {
   "codemirror_mode": {
    "name": "ipython",
    "version": 3
   },
   "file_extension": ".py",
   "mimetype": "text/x-python",
   "name": "python",
   "nbconvert_exporter": "python",
   "pygments_lexer": "ipython3",
   "version": "3.12.7"
  }
 },
 "nbformat": 4,
 "nbformat_minor": 5
}
